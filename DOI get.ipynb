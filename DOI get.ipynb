{
 "cells": [
  {
   "cell_type": "code",
   "execution_count": 2,
   "metadata": {},
   "outputs": [],
   "source": [
    "#packages for importing scholar data\n",
    "# google scholar\n",
    "from scholarly import scholarly"
   ]
  },
  {
   "cell_type": "code",
   "execution_count": 15,
   "metadata": {},
   "outputs": [
    {
     "data": {
      "text/plain": [
       "36"
      ]
     },
     "execution_count": 15,
     "metadata": {},
     "output_type": "execute_result"
    }
   ],
   "source": [
    "#use habanero to get counts for citations\n",
    "doi = '10.1016/j.jastp.2008.12.004'\n",
    "\n",
    "from habanero import counts\n",
    "counts.citation_count(doi = doi)"
   ]
  },
  {
   "cell_type": "code",
   "execution_count": null,
   "metadata": {},
   "outputs": [],
   "source": [
    "#use the below to get bibtek data for doi\n",
    "import sys\n",
    "import urllib.request\n",
    "from urllib.error import HTTPError\n",
    "\n",
    "BASE_URL = 'http://dx.doi.org/'\n",
    "\n",
    "try:\n",
    "    doi = sys.argv[1]\n",
    "except IndexError:\n",
    "    print('Usage:\\n{} <doi>'.format(sys.argv[0]))\n",
    "    sys.exit(1)\n",
    "\n",
    "url = BASE_URL + doi\n",
    "req = urllib.request.Request(url)\n",
    "req.add_header('Accept', 'application/x-bibtex')\n",
    "try:\n",
    "    with urllib.request.urlopen(req) as f:\n",
    "        bibtex = f.read().decode()\n",
    "    print(bibtex)\n",
    "except HTTPError as e:\n",
    "    if e.code == 404:\n",
    "        print('DOI not found.')\n",
    "    else:\n",
    "        print('Service unavailable.')\n",
    "    sys.exit(1)"
   ]
  }
 ],
 "metadata": {
  "kernelspec": {
   "display_name": "Python 3",
   "language": "python",
   "name": "python3"
  },
  "language_info": {
   "codemirror_mode": {
    "name": "ipython",
    "version": 3
   },
   "file_extension": ".py",
   "mimetype": "text/x-python",
   "name": "python",
   "nbconvert_exporter": "python",
   "pygments_lexer": "ipython3",
   "version": "3.7.3"
  }
 },
 "nbformat": 4,
 "nbformat_minor": 2
}
