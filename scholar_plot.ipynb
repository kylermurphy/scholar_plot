{
 "cells": [
  {
   "cell_type": "code",
   "execution_count": 38,
   "metadata": {},
   "outputs": [],
   "source": [
    "%matplotlib inline\n",
    "\n",
    "#packages for importing scholar data\n",
    "# google scholar\n",
    "from scholarly import scholarly\n",
    "#scopus\n",
    "from pybliometrics.scopus import AuthorRetrieval\n",
    "\n",
    "import matplotlib.pyplot as plt\n",
    "import numpy as np\n",
    "import pandas as pd\n",
    "import os as os\n",
    "\n",
    "pub_dir = 'D:\\\\GitHub\\\\kylermurphy.github.io\\\\files'\n",
    "pub_dir= \"C:\\\\Users\\\\murph\\\\GitHub\\\\kylermurphy.github.io\\\\files\"\n",
    "pub_file = 'Publications.xlsx'"
   ]
  },
  {
   "cell_type": "code",
   "execution_count": 39,
   "metadata": {},
   "outputs": [],
   "source": [
    "# load author data from google scholar\n",
    "aa = 'Kyle Murphy'\n",
    "scopus_id = 25723507400\n",
    "#aa = 'Iain Jonathan Rae'\n",
    "#scopus_id = 7003431703\n",
    "\n",
    "search_query = scholarly.search_author(aa)\n",
    "first_author = next(search_query)\n",
    "author = scholarly.fill(first_author, sections=['basics','indices','counts'])\n",
    "\n"
   ]
  },
  {
   "cell_type": "code",
   "execution_count": 41,
   "metadata": {},
   "outputs": [],
   "source": [
    "citations = np.array(list(author['cites_per_year'].values()), dtype=float)\n",
    "year      = np.array(list(author['cites_per_year'].keys()), dtype=float)\n",
    "\n",
    "since_year = int(year.max()-5)"
   ]
  },
  {
   "cell_type": "code",
   "execution_count": 46,
   "metadata": {},
   "outputs": [],
   "source": [
    "# attempt to load author data\n",
    "# from scopus, otherwise use hard\n",
    "# coded arrays\n",
    "\n",
    "try:\n",
    "    # retrieve author data\n",
    "    au = AuthorRetrieval(scopus_id)\n",
    "    # get publications\n",
    "    pub_d = docs = pd.DataFrame(au.get_documents(refresh=10))\n",
    "    pub_d['pub_date'] = pd.to_datetime(pub_d['coverDate'])\n",
    " \n",
    "except:\n",
    "    print(\"Can't run pybliometrics\")\n",
    "    print(\"Reading in publication data from excel {0}\".format(pub_file))\n",
    "    # read in publications\n",
    "    pub_d = pd.read_excel(os.path.join(pub_dir,pub_file))\n",
    "    \n",
    "# get year\n",
    "pub_yr = np.arange(pub_d.pub_date.min().year,pub_d.pub_date.max().year+1)\n",
    "# get publications per year\n",
    "pub_nm = [pub_d[(pub_d['pub_date'] >= pd.Timestamp(i,1,1)) & (pub_d['pub_date'] < pd.Timestamp(i+1,1,1))]['pub_date'].count() for i in pub_yr]\n",
    "pub_nm = np.array(pub_nm)\n",
    "# total number of publications\n",
    "totpub   = pub_nm.sum()\n",
    "# total number of publications in last 5 years\n",
    "totpub5y = pub_nm[np.where(pub_yr >= since_year)].sum()    \n",
    "\n"
   ]
  },
  {
   "cell_type": "code",
   "execution_count": 47,
   "metadata": {},
   "outputs": [
    {
     "data": {
      "image/png": "[encoded data removed]",
      "text/plain": [
       "<Figure size 325x650 with 3 Axes>"
      ]
     },
     "metadata": {},
     "output_type": "display_data"
    }
   ],
   "source": [
    "plt.style.use('seaborn-pastel')\n",
    "\n",
    "# setup a simple figure\n",
    "fig = plt.figure(figsize=(3.25,6.5))\n",
    "# setup a grid layout\n",
    "gs  = fig.add_gridspec(nrows=5, ncols=1, hspace=0.06, wspace=0.0)\n",
    "\n",
    "\n",
    "c1 = 'cornflowerblue'\n",
    "c2 = 'mediumvioletred'\n",
    "wd = 0.8\n",
    "xlim = [min([year.min(),pub_yr.min()])-1,max([year.max(),pub_yr.max()])+1]\n",
    "\n",
    "#plot citations\n",
    "f_ax1 = fig.add_subplot(gs[1:3,0])\n",
    "f_ax1.bar(year,citations,color=c1,width=wd)\n",
    "#f_ax1.set_ylabel('Citations', color=c1, size=12)\n",
    "f_ax1.tick_params(axis='y', labelcolor=c1)\n",
    "f_ax1.set_xlim(xlim)\n",
    "f_ax1.xaxis.set_major_formatter(plt.NullFormatter())\n",
    "\n",
    "# add labels to figure to save space\n",
    "xlim = f_ax1.get_xlim()\n",
    "xpos = (xlim[1]-xlim[0])*0.02 + xlim[0]\n",
    "\n",
    "ylim = f_ax1.get_ylim()\n",
    "ypos = (ylim[1]-ylim[0])*0.87 + ylim[0]\n",
    "f_ax1.text(xpos,ypos,' Citations', color=c1, size=12)\n",
    "\n",
    "#plot publications\n",
    "f_ax2 = fig.add_subplot(gs[3:,0])\n",
    "f_ax2.bar(pub_yr,pub_nm, width=wd,color=c2)\n",
    "f_ax2.set_xlabel('Year')\n",
    "#f_ax2.set_ylabel('Publications', color=c2, size=12)\n",
    "f_ax2.tick_params(axis='y', labelcolor=c2)\n",
    "f_ax2.set_xlim(xlim)\n",
    "f_ax2.xaxis.set_major_formatter(plt.FormatStrFormatter('%4i'))\n",
    "\n",
    "# add labels to figure to save space\n",
    "xlim = f_ax2.get_xlim()\n",
    "xpos = (xlim[1]-xlim[0])*0.02 + xlim[0]\n",
    "\n",
    "ylim = f_ax2.get_ylim()\n",
    "ypos = (ylim[1]-ylim[0])*0.87 + ylim[0]\n",
    "f_ax2.text(xpos,ypos,' Publications', color=c2, size=12)\n",
    "\n",
    "\n",
    "#create plot and text for scholar output plot\n",
    "f_ax3 = fig.add_subplot(gs[0,0])\n",
    "f_ax3.axis('off')\n",
    "f_ax3.axis([0,1,0,1])\n",
    "\n",
    "col_labels = ['All','Since {0:4}'.format(since_year)]\n",
    "row_labels = ['Citations', 'Publications', 'h - index', 'i10 - index']\n",
    "\n",
    "tab_data = [[author['citedby'], author['citedby5y']],\n",
    "            [totpub, totpub5y],\n",
    "            [author['hindex'], author['hindex5y']],\n",
    "            [author['i10index'], author['i10index5y']]]\n",
    "\n",
    "c1 = 'white'\n",
    "c2 = 'lightgrey'\n",
    "\n",
    "c_col = [[c1,c1],[c2,c2],[c1,c1],[c2,c2]]\n",
    "\n",
    "scholar_tab = f_ax3.table(cellText=tab_data,colLabels=col_labels, rowLabels=row_labels, \n",
    "                        loc='center left', rowLoc='right', colLoc='right',\n",
    "                        cellColours=c_col, rowColours=[c1,c2,c1,c2], bbox=[0.25,0.1,0.8,1.0])\n",
    "\n",
    "# get the table properties and cells\n",
    "# and loop through each cell to remove\n",
    "# the boarder\n",
    "table_props = scholar_tab.properties()\n",
    "table_cells = table_props['children']\n",
    "for cell in table_cells: \n",
    "    cell.set_edgecolor(None)\n",
    "\n",
    "# show the plot with the updated table\n",
    "plt.show()\n"
   ]
  },
  {
   "cell_type": "code",
   "execution_count": 44,
   "metadata": {},
   "outputs": [
    {
     "data": {
      "text/plain": [
       "dict_keys(['agg_filter', 'alpha', 'animated', 'celld', 'children', 'clip_box', 'clip_on', 'clip_path', 'figure', 'gid', 'in_layout', 'label', 'path_effects', 'picker', 'rasterized', 'sketch_params', 'snap', 'transform', 'transformed_clip_path_and_affine', 'url', 'visible', 'zorder'])"
      ]
     },
     "execution_count": 44,
     "metadata": {},
     "output_type": "execute_result"
    }
   ],
   "source": [
    "table_props.keys()"
   ]
  },
  {
   "cell_type": "code",
   "execution_count": 45,
   "metadata": {},
   "outputs": [],
   "source": [
    "# save figure and get rid of white space\n",
    "fig.savefig('C:\\\\Users\\\\murph\\\\Desktop\\\\ScholarFig',bbox_inches = 'tight',\n",
    "    pad_inches = 0)"
   ]
  }
 ],
 "metadata": {
  "kernelspec": {
   "display_name": "Python 3",
   "language": "python",
   "name": "python3"
  },
  "language_info": {
   "codemirror_mode": {
    "name": "ipython",
    "version": 3
   },
   "file_extension": ".py",
   "mimetype": "text/x-python",
   "name": "python",
   "nbconvert_exporter": "python",
   "pygments_lexer": "ipython3",
   "version": "3.10.6"
  }
 },
 "nbformat": 4,
 "nbformat_minor": 2
}
