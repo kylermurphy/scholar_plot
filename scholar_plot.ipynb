{
 "cells": [
  {
   "cell_type": "code",
   "execution_count": 2,
   "metadata": {},
   "outputs": [],
   "source": [
    "%matplotlib inline\n",
    "\n",
    "#packages for importing scholar data\n",
    "# google scholar\n",
    "from scholarly import scholarly\n",
    "#scopus\n",
    "from pybliometrics.scopus import AuthorRetrieval\n",
    "\n",
    "import matplotlib.pyplot as plt\n",
    "import numpy as np"
   ]
  },
  {
   "cell_type": "code",
   "execution_count": 9,
   "metadata": {},
   "outputs": [],
   "source": [
    "# load author data from google scholar\n",
    "search_query = scholarly.search_author('Kyle Murphy')\n",
    "author = next(search_query).fill(sections=['basics','indices','counts'])\n",
    "\n",
    "citations = np.array(list(author.cites_per_year.values()), dtype=float)\n",
    "year      = np.array(list(author.cites_per_year.keys()), dtype=float)\n",
    "\n",
    "since_year = int(year.max()-5)"
   ]
  },
  {
   "cell_type": "code",
   "execution_count": 41,
   "metadata": {},
   "outputs": [
    {
     "name": "stdout",
     "output_type": "stream",
     "text": [
      "Can't run pybliometrics\n"
     ]
    }
   ],
   "source": [
    "# attempt to load author data\n",
    "# from scopus, otherwise use hard\n",
    "# coded arrays\n",
    "\n",
    "try:\n",
    "    au = AuthorRetrieval(25723507400)\n",
    "except:\n",
    "    print(\"Can't run pybliometrics\")\n",
    "    pub_yr = np.array([2008.,2009., 2010., 2011., 2012., 2013., 2014., 2015., 2016., 2017.,\n",
    "       2018., 2019., 2020.])\n",
    "    pub_nm = np.array([2,7,2,5,6,3,8,6,4,10,9,4,3])  \n",
    "    totpub   = pub_nm.sum()\n",
    "    totpub5y = pub_nm[np.where(pub_yr >= since_year)].sum()    \n",
    "\n"
   ]
  },
  {
   "cell_type": "code",
   "execution_count": 77,
   "metadata": {},
   "outputs": [
    {
     "data": {
      "text/plain": [
       "Text(1.0, 0.0, '              All  Since 2015\\nCitations  1641        1208\\nPublications    69          36\\nh-index    22          19\\ni10-index    46          38\\n')"
      ]
     },
     "execution_count": 77,
     "metadata": {},
     "output_type": "execute_result"
    },
    {
     "data": {
      "image/png": "[encoded data removed]",
      "text/plain": [
       "<Figure size 324x504 with 3 Axes>"
      ]
     },
     "metadata": {},
     "output_type": "display_data"
    }
   ],
   "source": [
    "plt.style.use('seaborn-pastel')\n",
    "\n",
    "# setup a simple figure\n",
    "fig = plt.figure(figsize=(4.5,7))\n",
    "# setup a grid layout\n",
    "gs  = fig.add_gridspec(nrows=5, ncols=1, hspace=0.05)\n",
    "\n",
    "\n",
    "c1 = 'cornflowerblue'\n",
    "c2 = 'mediumvioletred'\n",
    "wd = 0.8\n",
    "xlim = [min([year.min(),pub_yr.min()])-1,max([year.max(),pub_yr.max()])+1]\n",
    "\n",
    "f_ax1 = fig.add_subplot(gs[1:3,0])\n",
    "f_ax1.bar(year,citations,color=c1,width=wd)\n",
    "f_ax1.set_ylabel('Citations', color=c1)\n",
    "f_ax1.tick_params(axis='y', labelcolor=c1)\n",
    "f_ax1.set_xlim(xlim)\n",
    "f_ax1.xaxis.set_major_formatter(plt.NullFormatter())\n",
    "\n",
    "f_ax2 = fig.add_subplot(gs[3:,0])\n",
    "f_ax2.bar(pub_yr,pub_nm, width=wd,color=c2)\n",
    "f_ax2.set_xlabel('Year')\n",
    "f_ax2.set_ylabel('Publications', color=c2)\n",
    "f_ax2.tick_params(axis='y', labelcolor=c2)\n",
    "f_ax2.set_xlim(xlim)\n",
    "\n",
    "\n",
    "#create plot and text for scholar output plot\n",
    "f_ax3 = fig.add_subplot(gs[0,0])\n",
    "f_ax3.axis('off')\n",
    "f_ax3.axis([0,1,0,1])\n",
    "\n",
    "\n",
    "text = ''' {0:>16}  {1:5} {2:4}\n",
    "Citations {3:5}  {4:10}\n",
    "Publications {9:5}  {10:10}\n",
    "h-index {5:5}  {6:10}\n",
    "i10-index {7:5}  {8:10}\n",
    "'''.format('All', 'Since', since_year,\n",
    "       author.citedby, author.citedby5y, \n",
    "       author.hindex, author.hindex5y,\n",
    "       author.i10index, author.i10index5y,\n",
    "          totpub, totpub5y)\n",
    "\n",
    "f_ax3.text(1.,0.0,text,horizontalalignment='right', verticalalignment='bottom', family='monospace', size=13)\n",
    "\n"
   ]
  },
  {
   "cell_type": "code",
   "execution_count": 80,
   "metadata": {},
   "outputs": [],
   "source": [
    "fig.savefig('ScholarFig')"
   ]
  }
 ],
 "metadata": {
  "kernelspec": {
   "display_name": "Python 3",
   "language": "python",
   "name": "python3"
  },
  "language_info": {
   "codemirror_mode": {
    "name": "ipython",
    "version": 3
   },
   "file_extension": ".py",
   "mimetype": "text/x-python",
   "name": "python",
   "nbconvert_exporter": "python",
   "pygments_lexer": "ipython3",
   "version": "3.7.3"
  }
 },
 "nbformat": 4,
 "nbformat_minor": 2
}
