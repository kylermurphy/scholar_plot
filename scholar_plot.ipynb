{
 "cells": [
  {
   "cell_type": "code",
   "execution_count": 2,
   "metadata": {},
   "outputs": [],
   "source": [
    "%matplotlib inline\n",
    "\n",
    "#packages for importing scholar data\n",
    "# google scholar\n",
    "from scholarly import scholarly\n",
    "#scopus\n",
    "from pybliometrics.scopus import AuthorRetrieval\n",
    "\n",
    "import matplotlib.pyplot as plt\n",
    "import numpy as np"
   ]
  },
  {
   "cell_type": "code",
   "execution_count": 4,
   "metadata": {},
   "outputs": [
    {
     "name": "stdout",
     "output_type": "stream",
     "text": [
      "{'affiliation': 'University of Maryland/NASA GSFC',\n",
      " 'citedby': 1641,\n",
      " 'citedby5y': 1208,\n",
      " 'cites_per_year': {2009: 46,\n",
      "                    2010: 46,\n",
      "                    2011: 70,\n",
      "                    2012: 66,\n",
      "                    2013: 71,\n",
      "                    2014: 127,\n",
      "                    2015: 134,\n",
      "                    2016: 184,\n",
      "                    2017: 173,\n",
      "                    2018: 232,\n",
      "                    2019: 312,\n",
      "                    2020: 172},\n",
      " 'email': '@umd.edu',\n",
      " 'filled': False,\n",
      " 'hindex': 22,\n",
      " 'hindex5y': 19,\n",
      " 'i10index': 46,\n",
      " 'i10index5y': 38,\n",
      " 'id': 'n8I0sAwAAAAJ',\n",
      " 'interests': [],\n",
      " 'name': 'Kyle Murphy',\n",
      " 'url_picture': 'https://scholar.google.com/citations?view_op=medium_photo&user=n8I0sAwAAAAJ'}\n"
     ]
    }
   ],
   "source": [
    "search_query = scholarly.search_author('Kyle Murphy')\n",
    "author = next(search_query).fill(sections=['basics','indices','counts'])\n",
    "print(author)"
   ]
  },
  {
   "cell_type": "code",
   "execution_count": 28,
   "metadata": {},
   "outputs": [
    {
     "data": {
      "text/plain": [
       "array([2009., 2010., 2011., 2012., 2013., 2014., 2015., 2016., 2017.,\n",
       "       2018., 2019., 2020.])"
      ]
     },
     "execution_count": 28,
     "metadata": {},
     "output_type": "execute_result"
    }
   ],
   "source": [
    "citations = np.array(list(author.cites_per_year.values()), dtype=float)\n",
    "year      = np.array(list(author.cites_per_year.keys()), dtype=float)"
   ]
  },
  {
   "cell_type": "code",
   "execution_count": 134,
   "metadata": {},
   "outputs": [
    {
     "data": {
      "text/plain": [
       "Text(1.0, 0.0, '              All  Since 2015\\nCitations   1641        1208\\nh-index     22          19\\ni10-index     46          38')"
      ]
     },
     "execution_count": 134,
     "metadata": {},
     "output_type": "execute_result"
    },
    {
     "data": {
      "image/png": "[encoded data removed]",
      "text/plain": [
       "<Figure size 324x360 with 2 Axes>"
      ]
     },
     "metadata": {
      "needs_background": "light"
     },
     "output_type": "display_data"
    }
   ],
   "source": [
    "plt.style.use('seaborn-pastel')\n",
    "\n",
    "# setup a simple figure\n",
    "fig = plt.figure(figsize=(4.5,5),constrained_layout=True)\n",
    "# setup a grid layout\n",
    "gs  = fig.add_gridspec(4,1)\n",
    "\n",
    "f_ax1 = fig.add_subplot(gs[1:,0])\n",
    "f_ax1.bar(year,citations,color='cornflowerblue')\n",
    "f_ax1.set_xlabel('Year')\n",
    "f_ax1.set_ylabel('Citations')\n",
    "\n",
    "f_ax2 = fig.add_subplot(gs[0,0])\n",
    "f_ax2.axis('off')\n",
    "f_ax2.axis([0,1,0,1])\n",
    "\n",
    "#create text for scholar output plot\n",
    "since_year = int(year.max()-5)\n",
    "\n",
    "text = ''' {0:>16}  {1:5} {2:4}\n",
    "Citations  {3:5}  {4:10}\n",
    "h-index  {5:5}  {6:10}\n",
    "i10-index  {7:5}  {8:10}'''.format('All', 'Since', since_year,\n",
    "       author.citedby, author.citedby5y, \n",
    "       author.hindex, author.hindex5y,\n",
    "       author.i10index, author.i10index5y)\n",
    "\n",
    "f_ax2.text(1.,0.0,text,horizontalalignment='right', family='monospace', size=13)\n",
    "\n",
    "\n"
   ]
  },
  {
   "cell_type": "code",
   "execution_count": null,
   "metadata": {},
   "outputs": [],
   "source": [
    "au = AuthorRetrieval(25723507400)"
   ]
  },
  {
   "cell_type": "code",
   "execution_count": 135,
   "metadata": {},
   "outputs": [],
   "source": []
  },
  {
   "cell_type": "code",
   "execution_count": 141,
   "metadata": {},
   "outputs": [
    {
     "data": {
      "text/plain": [
       "191"
      ]
     },
     "execution_count": 141,
     "metadata": {},
     "output_type": "execute_result"
    }
   ],
   "source": []
  },
  {
   "cell_type": "code",
   "execution_count": null,
   "metadata": {},
   "outputs": [],
   "source": []
  }
 ],
 "metadata": {
  "kernelspec": {
   "display_name": "Python 3",
   "language": "python",
   "name": "python3"
  },
  "language_info": {
   "codemirror_mode": {
    "name": "ipython",
    "version": 3
   },
   "file_extension": ".py",
   "mimetype": "text/x-python",
   "name": "python",
   "nbconvert_exporter": "python",
   "pygments_lexer": "ipython3",
   "version": "3.7.3"
  }
 },
 "nbformat": 4,
 "nbformat_minor": 2
}
